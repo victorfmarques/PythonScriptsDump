{
 "cells": [
  {
   "cell_type": "code",
   "execution_count": 34,
   "metadata": {
    "scrolled": false
   },
   "outputs": [
    {
     "name": "stdout",
     "output_type": "stream",
     "text": [
      "Apresentado em:\n",
      "C:/Users/Victo/Documents/_Estudo/_RPA/_UiPath/_Level_3_RPA_Advanced_Training/3.1_-_Generate_Yearly_Report_for_Vendor/Process.xaml\n"
     ]
    }
   ],
   "source": [
    "import os\n",
    "PATH = 'C:/Users/Victo/Documents/_Estudo/_RPA/_UiPath/_Level_3_RPA_Advanced_Training/3.1_-_Generate_Yearly_Report_for_Vendor/'\n",
    "\n",
    "for file in os.listdir(PATH):\n",
    "    # print(\"FILE -->\" + file)\n",
    "    if file.endswith(\".xaml\"):\n",
    "               \n",
    "        #Concatena caminho e nome do arquivo\n",
    "        xaml_file = os.path.join(PATH, file)\n",
    "        \n",
    "        # cria uma instância do arquivo em uma variavel\n",
    "        f=open(xaml_file, \"r\")\n",
    "        \n",
    "        # Caso o arquivo esteja em modo de leitura realize a leitura\n",
    "        if f.mode =='r':\n",
    "            content = f.read()\n",
    "            \n",
    "            search_content = r'System1\\NavigateToWorkItemsDetails.xaml'\n",
    "            if search_content in content:\n",
    "                print(\"Apresentado em:\\n\" + xaml_file)\n",
    "            "
   ]
  },
  {
   "cell_type": "code",
   "execution_count": 96,
   "metadata": {},
   "outputs": [
    {
     "name": "stdout",
     "output_type": "stream",
     "text": [
      "Dado inicio de pesquisa de arquivos no diretorio:\n",
      "==>C:\\Users\\Victo\\Documents\\_Estudo\\_RPA\\_UiPath\n",
      "====================================================================================================\n",
      "74 Arquivos listados\n",
      "====================================================================================================\n",
      "Inicio de filtro dos arquivos com o conteúdo:\n",
      "==>System1\\NavigateToWorkItemsDetails.xaml\n",
      "\n",
      "Arquivos filtrados\n",
      " - C:\\Users\\Victo\\Documents\\_Estudo\\_RPA\\_UiPath\\_Level_3_RPA_Advanced_Training\\2. Create_Client_Security_Hash\\Process.xaml\n",
      " - C:\\Users\\Victo\\Documents\\_Estudo\\_RPA\\_UiPath\\_Level_3_RPA_Advanced_Training\\3.1_-_Generate_Yearly_Report_for_Vendor\\Process.xaml\n"
     ]
    }
   ],
   "source": [
    "from pathlib import Path\n",
    "import pandas as pd\n",
    "\n",
    "PATH = r'C:\\Users\\Victo\\Documents\\_Estudo\\_RPA\\_UiPath'\n",
    "search_content = r'System1\\NavigateToWorkItemsDetails.xaml'\n",
    "OUTPUT_FILE = r'C:\\Users\\Victo\\OneDrive\\Área de Trabalho\\output.csv'\n",
    "filtered_files = []\n",
    "\n",
    "print(\"Dado inicio de pesquisa de arquivos no diretorio:\\n==>\"+PATH)\n",
    "xaml_list = list(Path(PATH).rglob(\"*.[xX][aA][mM][lL]\"))\n",
    "\n",
    "print(\"=\"*100)\n",
    "print(str(len(xaml_list)) + \" Arquivos listados\")\n",
    "print(\"=\"*100)     \n",
    "    \n",
    "print(\"Inicio de filtro dos arquivos com o conteúdo:\\n==>\"+ search_content+\"\\n\")\n",
    "print(\"Arquivos filtrados\")\n",
    "for xaml_file in xaml_list:\n",
    "    file = Path(xaml_file).open(encoding=\"utf8\")\n",
    "    \n",
    "    if file.mode == 'r':\n",
    "        content = file.read()\n",
    "        if search_content in content:\n",
    "            print(\" - \"+file.name)\n",
    "            filtered_files.append(file.name)\n",
    "  \n",
    "\n",
    "df_files = pd.DataFrame(filtered_files)\n",
    "df_files.to_csv(OUTPUT_FILE)"
   ]
  },
  {
   "cell_type": "code",
   "execution_count": 94,
   "metadata": {},
   "outputs": [
    {
     "data": {
      "text/html": [
       "<div>\n",
       "<style scoped>\n",
       "    .dataframe tbody tr th:only-of-type {\n",
       "        vertical-align: middle;\n",
       "    }\n",
       "\n",
       "    .dataframe tbody tr th {\n",
       "        vertical-align: top;\n",
       "    }\n",
       "\n",
       "    .dataframe thead th {\n",
       "        text-align: right;\n",
       "    }\n",
       "</style>\n",
       "<table border=\"1\" class=\"dataframe\">\n",
       "  <thead>\n",
       "    <tr style=\"text-align: right;\">\n",
       "      <th></th>\n",
       "      <th>0</th>\n",
       "    </tr>\n",
       "  </thead>\n",
       "  <tbody>\n",
       "    <tr>\n",
       "      <th>0</th>\n",
       "      <td>C:\\Users\\Victo\\Documents\\_Estudo\\_RPA\\_UiPath\\...</td>\n",
       "    </tr>\n",
       "    <tr>\n",
       "      <th>1</th>\n",
       "      <td>C:\\Users\\Victo\\Documents\\_Estudo\\_RPA\\_UiPath\\...</td>\n",
       "    </tr>\n",
       "  </tbody>\n",
       "</table>\n",
       "</div>"
      ],
      "text/plain": [
       "                                                   0\n",
       "0  C:\\Users\\Victo\\Documents\\_Estudo\\_RPA\\_UiPath\\...\n",
       "1  C:\\Users\\Victo\\Documents\\_Estudo\\_RPA\\_UiPath\\..."
      ]
     },
     "execution_count": 94,
     "metadata": {},
     "output_type": "execute_result"
    }
   ],
   "source": [
    "df_files.to_csv('')"
   ]
  }
 ],
 "metadata": {
  "kernelspec": {
   "display_name": "Python 3",
   "language": "python",
   "name": "python3"
  },
  "language_info": {
   "codemirror_mode": {
    "name": "ipython",
    "version": 3
   },
   "file_extension": ".py",
   "mimetype": "text/x-python",
   "name": "python",
   "nbconvert_exporter": "python",
   "pygments_lexer": "ipython3",
   "version": "3.7.6"
  }
 },
 "nbformat": 4,
 "nbformat_minor": 4
}
